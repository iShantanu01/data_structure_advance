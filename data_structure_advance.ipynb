{
 "cells": [
  {
   "cell_type": "code",
   "execution_count": 66,
   "id": "bdb6680d-50c9-4a61-a8b2-32372b8ffe4b",
   "metadata": {},
   "outputs": [],
   "source": [
    "# 1. write a code to  reverse a string.\n",
    "s = 'Shantanu'\n",
    "# reverse string \n",
    "s[::-1]"
   ]
  },
  {
   "cell_type": "code",
   "execution_count": 64,
   "id": "cbc8d304-7204-45d0-a97b-b64d889c5caa",
   "metadata": {},
   "outputs": [],
   "source": [
    "# 2. write a code to count the number of vowels in a string.\n",
    "\n",
    "# create a function:\n",
    "def vcount(s):\n",
    "    l = [ 'a' , 'e' , 'i' , 'o' , 'u']\n",
    "    lower_case = s.lower()\n",
    "    str_list =list(lower_case)\n",
    "    sum = 0\n",
    "    for i in str_list:\n",
    "        if i in l :\n",
    "            sum = sum + 1\n",
    "    return sum            \n",
    "\n",
    "# count the number of vowel\n",
    "vcount(s)    "
   ]
  },
  {
   "cell_type": "code",
   "execution_count": 74,
   "id": "4a5d159c-97ce-4d85-b928-38deed806d41",
   "metadata": {},
   "outputs": [
    {
     "name": "stdout",
     "output_type": "stream",
     "text": [
      "this is not palindrome\n",
      "this is a palindrome \n"
     ]
    }
   ],
   "source": [
    "# 3. write a code to check if a given string is a palindrome or not.\n",
    "\n",
    "# create a function to check the palindrome number:\n",
    "def palindrome(s):\n",
    "    s1 = s[::-1]\n",
    "    if s1 == s:\n",
    "        print('this is a palindrome ')\n",
    "    else :\n",
    "        print('this is not palindrome')\n",
    "\n",
    "# check  the condition:\n",
    "str = 'Shantanu'\n",
    "str1 = 'level'\n",
    "palindrome(str)\n",
    "palindrome(str1)       \n"
   ]
  },
  {
   "cell_type": "code",
   "execution_count": 86,
   "id": "f0eda747-2ff8-443f-8a92-90d56d384942",
   "metadata": {},
   "outputs": [
    {
     "name": "stdout",
     "output_type": "stream",
     "text": [
      "these two words are anagram\n"
     ]
    }
   ],
   "source": [
    "# 4. write a code to check if two given strings are anagrams of each other.\n",
    "\n",
    "# create a function:\n",
    "def anagram(s1 , s2):\n",
    "    a=s1.lower()\n",
    "    b=s2.lower()\n",
    "    for i in a:\n",
    "      if i in list (b):\n",
    "         continue\n",
    "      else:\n",
    "          print('these two words are not anagram')\n",
    "    print('these two words are anagram')    \n",
    "\n",
    "a = 'listen'\n",
    "b = 'silent'\n",
    "\n",
    "anagram(a , b)"
   ]
  },
  {
   "cell_type": "code",
   "execution_count": 3,
   "id": "6607373d-6c33-4e5d-b00e-cd4e4bb13de0",
   "metadata": {},
   "outputs": [
    {
     "data": {
      "text/plain": [
       "5"
      ]
     },
     "execution_count": 3,
     "metadata": {},
     "output_type": "execute_result"
    }
   ],
   "source": [
    "# 5. Write a code to find all occurances of a given substring within another string.\n",
    "\n",
    "# this is the string\n",
    "s= '''kolkata is city of joy. In the city you can see variety of religion.\n",
    "      Thus , you can find variety of foods in the city. The city is full of flavours .\n",
    "      So, I cordially invite you to visit our city specially during durga puja time'''\n",
    "\n",
    "# find the occurance of substring 'city' in the string.\n",
    "s.count('city')\n",
    "    \n"
   ]
  },
  {
   "cell_type": "code",
   "execution_count": 118,
   "id": "a6a61971-cb58-41ea-8694-84122f226f8e",
   "metadata": {},
   "outputs": [
    {
     "data": {
      "text/plain": [
       "'a3b3c3d2e2f4g2h1'"
      ]
     },
     "execution_count": 118,
     "metadata": {},
     "output_type": "execute_result"
    }
   ],
   "source": [
    "# 6. Write a code to perform basic string compression using the counts of \n",
    "#    repeated characters.\n",
    "\n",
    "# string:\n",
    "s = 'aaabbbcccddeeffffggh'\n",
    "\n",
    "# define the function:\n",
    "def compress_string(s):\n",
    "    if not s:\n",
    "        return \"\"\n",
    "    compressed = []\n",
    "    count = 1\n",
    "    for i in range(1, len(s)):\n",
    "        if s[i] == s[i - 1]:\n",
    "            count += 1\n",
    "        else:\n",
    "            compressed.append(s[i - 1] + str(count))\n",
    "            count = 1\n",
    "    compressed.append(s[-1] + str(count))\n",
    "    return ''.join(compressed)\n",
    "\n",
    "# call the function:\n",
    "compress_string(s)\n"
   ]
  },
  {
   "cell_type": "code",
   "execution_count": 135,
   "id": "3cdef8fc-d581-492a-b66a-f4ce2451c8b0",
   "metadata": {},
   "outputs": [
    {
     "name": "stdout",
     "output_type": "stream",
     "text": [
      "All characters are unique.\n"
     ]
    }
   ],
   "source": [
    "# 7. write a code to determine if a string has all unique characters.\n",
    "\n",
    "# this is the string\n",
    "str = 'abcde'\n",
    "\n",
    "# function:\n",
    "def unique_str(s):\n",
    "    # Convert the string to a set to remove duplicates\n",
    "    return len(set(s)) == len(s)\n",
    "\n",
    "# condition:\n",
    "if unique_str(str):\n",
    "    print(\"All characters are unique.\")\n",
    "else:\n",
    "    print(\"Not all characters are unique.\")\n",
    "\n",
    "\n",
    "\n"
   ]
  },
  {
   "cell_type": "code",
   "execution_count": 29,
   "id": "3c27fbb2-3210-4fda-b2ce-d22e0063b19d",
   "metadata": {},
   "outputs": [
    {
     "data": {
      "text/plain": [
       "'SHANTANU'"
      ]
     },
     "execution_count": 29,
     "metadata": {},
     "output_type": "execute_result"
    }
   ],
   "source": [
    "# 8. Write a code to convert a given string to uppercase or lowercase.\n",
    "\n",
    "# lowercase.\n",
    "s= 'ShAnTAnu'\n",
    "s.lower()\n",
    "\n",
    "# uppercase\n",
    "s.upper()"
   ]
  },
  {
   "cell_type": "code",
   "execution_count": 51,
   "id": "c8bd59d8-da50-4219-a546-da8e55da9bea",
   "metadata": {},
   "outputs": [],
   "source": [
    "# 9. Write a code to count the number of words in a string.\n",
    "\n",
    "# create a function\n",
    "def word_count(s):\n",
    "    n = len(s.split(' '))\n",
    "    return n\n",
    "\n",
    "# count the words\n",
    "str = 'hi I am Shantanu'\n",
    "word_count(str)\n",
    " "
   ]
  },
  {
   "cell_type": "code",
   "execution_count": 53,
   "id": "ad10fdf1-ca47-43f9-be56-a9e59021792c",
   "metadata": {},
   "outputs": [
    {
     "data": {
      "text/plain": [
       "'hello Rajwelcome to kolkata'"
      ]
     },
     "execution_count": 53,
     "metadata": {},
     "output_type": "execute_result"
    }
   ],
   "source": [
    "# 10. write a code to concatinate two strings without using + operator.\n",
    "\n",
    "s1 = 'hello Raj'\n",
    "s2 = 'welcome to kolkata'\n",
    "\n",
    "# concatination using f-string:\n",
    "s3 = f'{s1}{s2}'"
   ]
  },
  {
   "cell_type": "code",
   "execution_count": 56,
   "id": "58f69d4c-1448-4478-9b99-b924c722548e",
   "metadata": {},
   "outputs": [
    {
     "data": {
      "text/plain": [
       "[1, 1, 3, 5, 6, 7, 8, 10, 23, 4, 5, 7, 8]"
      ]
     },
     "execution_count": 56,
     "metadata": {},
     "output_type": "execute_result"
    }
   ],
   "source": [
    "# 11. write a code to remove all occurances of a specific element from a list.\n",
    "\n",
    "# list\n",
    "l = [1,1,2,2,3 ,5,6,7,8,10,23,4,5,7,8,2,2,2,2]\n",
    "\n",
    "# create  a function\n",
    "def remove_element(list , element):\n",
    "   return [i for i in list if i != element]\n",
    "              \n",
    "# remove element:\n",
    "remove_element(l ,2)\n",
    "    "
   ]
  },
  {
   "cell_type": "code",
   "execution_count": 63,
   "id": "21e2f295-f5bb-4deb-98cc-247e0d8c1c7f",
   "metadata": {},
   "outputs": [
    {
     "data": {
      "text/plain": [
       "200"
      ]
     },
     "execution_count": 63,
     "metadata": {},
     "output_type": "execute_result"
    }
   ],
   "source": [
    "# 12. Implement a code to find the second largest largest number in a given list of integers.\n",
    "\n",
    "\n",
    "l=[1,2,4,5,200,101,5,7,90,201,99]\n",
    "\n",
    "# create a function:\n",
    "def second_highest(l):\n",
    "   l.sort()\n",
    "   return l[-2]\n",
    "\n",
    "# call the function:\n",
    "second_highest(l)\n",
    "\n",
    " "
   ]
  },
  {
   "cell_type": "code",
   "execution_count": 83,
   "id": "96bbd18f-57a3-409c-8d10-534473e87fd5",
   "metadata": {},
   "outputs": [
    {
     "data": {
      "text/plain": [
       "{1: 1, 2: 1, 3: 1, 4: 1, 5: 1, 6: 1, 7: 4}"
      ]
     },
     "execution_count": 83,
     "metadata": {},
     "output_type": "execute_result"
    }
   ],
   "source": [
    "# 13. Create a code to count the occurances of each  element in a list and return a dictionary\n",
    "#     keys and their counts as values.\n",
    "\n",
    "l = [1,2,3,4,5,6,7,7,7,7]\n",
    "\n",
    "\n",
    "# define the function:\n",
    "def element_count(l):\n",
    "   counts = {}\n",
    "   for i in l:\n",
    "      if i in counts:\n",
    "        counts[i] += 1\n",
    "      else:\n",
    "        counts[i] = 1\n",
    "   return counts\n",
    "\n",
    "element_count(l)\n",
    "\n",
    "\n",
    "    "
   ]
  },
  {
   "cell_type": "code",
   "execution_count": 11,
   "id": "28d06edf-61a3-4f7d-be1f-f56120b12d27",
   "metadata": {},
   "outputs": [
    {
     "data": {
      "text/plain": [
       "[30, 32, 45, 95, 89, 7, 3, 6, 5, 2]"
      ]
     },
     "execution_count": 11,
     "metadata": {},
     "output_type": "execute_result"
    }
   ],
   "source": [
    "# 14. Write a code to reverse a list in place without using any built-in reverse functions.\n",
    "l = [2,5,6,3,7,89,95,45,32,30]\n",
    "\n",
    "# define the function:\n",
    "def reverse_list(list):\n",
    "    l1 = l[::-1]\n",
    "    return l1\n",
    "    \n",
    "# call the function:  \n",
    "reverse_list(l)"
   ]
  },
  {
   "cell_type": "code",
   "execution_count": 29,
   "id": "9c756d3a-cf7f-4f95-94a0-267156e89905",
   "metadata": {},
   "outputs": [
    {
     "data": {
      "text/plain": [
       "[1, 2, 3, 5, 4]"
      ]
     },
     "execution_count": 29,
     "metadata": {},
     "output_type": "execute_result"
    }
   ],
   "source": [
    "# 15. Implement a code to find and reomove duplicates from a list while preserving the \n",
    "#     original order of elements.\n",
    "\n",
    "l = [1,1,2,2,3,3,3,5,5,5,4,4,4]\n",
    "\n",
    "# derive the function:\n",
    "def remove_duplicate(l):\n",
    "   l1 = []\n",
    "   for i in l:\n",
    "      if i not in l1:\n",
    "        l1.append(i)\n",
    "   return l1\n",
    "\n",
    "# call the function:\n",
    "remove_duplicate(l)\n",
    "\n"
   ]
  },
  {
   "cell_type": "code",
   "execution_count": 47,
   "id": "b6bfc591-814a-4725-b85b-ae72a13b025d",
   "metadata": {},
   "outputs": [
    {
     "name": "stdout",
     "output_type": "stream",
     "text": [
      "the list is not sorted\n"
     ]
    }
   ],
   "source": [
    "# 16. Create a code to check if a given list is sorted(either in ascending or descending order) or not.\n",
    "\n",
    "l=[1,2,4,5,200,101,5,7,90,201,99]\n",
    "\n",
    "# deep  copy of the list:\n",
    "l1 = l.copy()\n",
    "l2 = l.copy()\n",
    "\n",
    "# sort the copy list ascending and decending order:\n",
    "l1.sort()\n",
    "l2.sort(reverse = True)\n",
    "\n",
    "# check  if the original list is sorted or not:\n",
    "if (l == l1) & (l ==l2):\n",
    "    print('the list is sorted')\n",
    "else:\n",
    "    print('the list is not sorted')\n",
    "\n",
    "\n"
   ]
  },
  {
   "cell_type": "code",
   "execution_count": 91,
   "id": "bf7433cf-b645-46fd-a369-0b25bd52cfc2",
   "metadata": {},
   "outputs": [
    {
     "data": {
      "text/plain": [
       "[1, 2, 3, 4, 5, 6, 7, 8, 9, 10, 6, 7, 8, 9, 10]"
      ]
     },
     "execution_count": 91,
     "metadata": {},
     "output_type": "execute_result"
    }
   ],
   "source": [
    "# 17. Write a to merge two two sorted lists into a single sorted list.\n",
    "\n",
    "l1 = [1,2,3,4,5]\n",
    "l2 = [6,7,8,9,10]\n",
    "\n",
    "# merge two list in two ways:\n",
    "\n",
    "# 1.  extend : (it will modify the list)\n",
    "l1.extend(l2)\n",
    "l1\n",
    "\n",
    "# 2. concatination:  (as if l1 is already modified)\n",
    "l1+l2"
   ]
  },
  {
   "cell_type": "code",
   "execution_count": 54,
   "id": "bde456b8-ab9a-4d75-b4bb-6319e9775817",
   "metadata": {},
   "outputs": [
    {
     "data": {
      "text/plain": [
       "[3, 4]"
      ]
     },
     "execution_count": 54,
     "metadata": {},
     "output_type": "execute_result"
    }
   ],
   "source": [
    "#  18. Implement a code to find the intersection of two given lists.\n",
    "\n",
    "#lists:\n",
    "l1 = [1,2,3,4,5]\n",
    "l2 = [3,4,6,9,10]\n",
    "\n",
    "# intersection:\n",
    "# derive the function:\n",
    "def intersection(l1,l2):\n",
    "    l3 = []\n",
    "    for i in l1:\n",
    "      if i in l2:\n",
    "        l3.append(i)\n",
    "    return l3\n",
    "\n",
    "# call the function:\n",
    "intersection(l1,l2)"
   ]
  },
  {
   "cell_type": "code",
   "execution_count": 126,
   "id": "6c7aebaa-d108-48dd-b4da-1a93eb6a6edf",
   "metadata": {},
   "outputs": [
    {
     "data": {
      "text/plain": [
       "[1, 2, 3, 4, 5, 6, 9, 10]"
      ]
     },
     "execution_count": 126,
     "metadata": {},
     "output_type": "execute_result"
    }
   ],
   "source": [
    "# 19. Create a code to find the union of two lists without duplicates.\n",
    "\n",
    "#lists:\n",
    "l1 = [1,2,3,4,5]\n",
    "l2 = [3,4,6,9,10]\n",
    "\n",
    "# union:\n",
    "# derive the function:\n",
    "def union(l1,l2):\n",
    "    l3 = l1 + l2\n",
    "    return list(set(l3))   \n",
    "    \n",
    "\n",
    "# call the function:\n",
    "union(l1,l2)"
   ]
  },
  {
   "cell_type": "code",
   "execution_count": 116,
   "id": "5b469428-7e19-45e4-b007-1b391fd57604",
   "metadata": {},
   "outputs": [
    {
     "data": {
      "text/plain": [
       "[46, 43, 20, 13, 31, 25, 69, 10]"
      ]
     },
     "execution_count": 116,
     "metadata": {},
     "output_type": "execute_result"
    }
   ],
   "source": [
    "# 20. Write a code to shuffle a given list randomly without using only built-in suffle functions.\n",
    "\n",
    "l = [10, 20, 31, 43, 25, 46, 69, 13]\n",
    "\n",
    "# define the function:\n",
    "import random\n",
    "def shuffle_list(lst):\n",
    "    n = len(lst)\n",
    "    for i in range(n-1, 0, -1):\n",
    "        j = random.randint(0, i)\n",
    "        lst[i], lst[j] = lst[j], lst[i]\n",
    "    return lst\n",
    "\n",
    "# call the function:\n",
    "shuffle_list(l)\n",
    "\n",
    "\n"
   ]
  },
  {
   "cell_type": "code",
   "execution_count": 114,
   "id": "93258290-1c6a-437f-8bef-1b427bdc8e54",
   "metadata": {},
   "outputs": [
    {
     "data": {
      "text/plain": [
       "(1, 2)"
      ]
     },
     "execution_count": 114,
     "metadata": {},
     "output_type": "execute_result"
    }
   ],
   "source": [
    "# 21. write a code that takes two tuples as input and returns a new tuple containing elements that are common to both input tuples. \n",
    "\n",
    "t1 = (1,2,4,5,7,7)\n",
    "t2 = (1,2,3,10,11,12)\n",
    "\n",
    "set(t1)\n",
    "\n",
    "# Define the function:\n",
    "def intersection(tuple1 , tuple2):\n",
    "    return tuple(set(t1) & set(t2))\n",
    "\n",
    "# call the function:\n",
    "intersection(t1,t2)"
   ]
  },
  {
   "cell_type": "code",
   "execution_count": 122,
   "id": "4d6dcbd4-0ee5-401c-b900-425d40c1b091",
   "metadata": {},
   "outputs": [
    {
     "data": {
      "text/plain": [
       "{2, 4, 5}"
      ]
     },
     "execution_count": 122,
     "metadata": {},
     "output_type": "execute_result"
    }
   ],
   "source": [
    "# 22. Create a code that prompts the user to enter two sets of integers seperated by commas.\n",
    "#     Then, print the intersection of two sets.\n",
    "\n",
    "s1 = {1,2,4,5,6}\n",
    "s2 = {2,3,4,5,7,8}\n",
    "\n",
    "# Define the function:\n",
    "def intersection(set1 , set2):\n",
    "    return set1 & set2\n",
    "\n",
    "# call the function:\n",
    "intersection(s1,s2)"
   ]
  },
  {
   "cell_type": "code",
   "execution_count": 132,
   "id": "38f85331-214f-45f2-bc8d-1a0bc9289142",
   "metadata": {},
   "outputs": [
    {
     "data": {
      "text/plain": [
       "(1, 2, 4, 5, 6, 7, 8, 9, 6, 10, 11)"
      ]
     },
     "execution_count": 132,
     "metadata": {},
     "output_type": "execute_result"
    }
   ],
   "source": [
    "# 23. Write a code to concatinate two tuples.The function should take two tuples as input and return a new\n",
    "#     tuple containing elements from both input tuples.\n",
    "\n",
    "# two tuples:\n",
    "s1 = (1,2,4,5,6)\n",
    "s2 = (7,8,9,6,10,11)\n",
    "\n",
    "# tuple concatination:\n",
    "s1 + s2\n",
    "\n"
   ]
  },
  {
   "cell_type": "code",
   "execution_count": 146,
   "id": "d290665c-9150-4730-9f5a-dbbf3ae6083b",
   "metadata": {},
   "outputs": [
    {
     "data": {
      "text/plain": [
       "{'rahul', 'sachin', 'sourav', 'zaheer'}"
      ]
     },
     "execution_count": 146,
     "metadata": {},
     "output_type": "execute_result"
    }
   ],
   "source": [
    "# 24. Develop a code that prompts the user to input two sets of strings.Then, \n",
    "#     print the elements that are present in the first set but not in the second set.\n",
    "\n",
    "# two set of strings\n",
    "s1 = { 'sourav' , 'sachin' , 'rahul' , 'zaheer' , 'yuvraj' , 'kohli' , 'rohit'  }\n",
    "s2 = {'yuvraj' , 'kohli' , 'rohit'}\n",
    "\n",
    "# define the function:\n",
    "def first_set_only(s1 , s2):\n",
    "  s3 = s1- s2\n",
    "  return s3\n",
    "\n",
    "# call the function:\n",
    "first_set_only(s1 , s2)\n"
   ]
  },
  {
   "cell_type": "code",
   "execution_count": 150,
   "id": "4980912b-735b-482b-8777-fd60a5306977",
   "metadata": {},
   "outputs": [
    {
     "data": {
      "text/plain": [
       "(3, 34, 52, 63, 7, 82)"
      ]
     },
     "execution_count": 150,
     "metadata": {},
     "output_type": "execute_result"
    }
   ],
   "source": [
    "# 25. Create a code that takes a tuple and two integer as a input. The function should return a new tuple containing \n",
    "#     elements from the original tuple within the specified range of indices.\n",
    "\n",
    "# input tuple\n",
    "t = (10,20,3,34,52,63,7,82,91)\n",
    "\n",
    "# define the function:\n",
    "def tuple_slicing(tuple , start , end):\n",
    "       return tuple[start : end+1]\n",
    "\n",
    "# call the function:\n",
    "tuple_slicing(t , 2 , 7)\n"
   ]
  },
  {
   "cell_type": "code",
   "execution_count": 152,
   "id": "abd6cfb6-73a8-4d43-baa4-83863d77d136",
   "metadata": {},
   "outputs": [
    {
     "data": {
      "text/plain": [
       "{'bumra',\n",
       " 'kohli',\n",
       " 'rahul',\n",
       " 'raina',\n",
       " 'rohit',\n",
       " 'sachin',\n",
       " 'sourav',\n",
       " 'yuvraj',\n",
       " 'zaheer'}"
      ]
     },
     "execution_count": 152,
     "metadata": {},
     "output_type": "execute_result"
    }
   ],
   "source": [
    "# 26. Write a code that prompts the user to input two sets of character.Then, print the union of these two sets.\n",
    "\n",
    "# two set of strings\n",
    "s1 = { 'sourav' , 'sachin' , 'rahul' , 'zaheer' , 'yuvraj' , 'kohli' , 'rohit' }\n",
    "s2 = {'yuvraj' , 'kohli' , 'rohit' , 'raina' , 'bumra'}\n",
    "\n",
    "# define the function:\n",
    "def union_set(set1 , set2):\n",
    "    return s1 | s2\n",
    "\n",
    "#call the function:\n",
    "union_set(s1,s2)\n",
    "    \n",
    "    "
   ]
  },
  {
   "cell_type": "code",
   "execution_count": 172,
   "id": "d982bc42-dc77-4d89-9920-c1282c38cec2",
   "metadata": {},
   "outputs": [
    {
     "data": {
      "text/plain": [
       "{1: 6, 2: 1, 54: 1, 34: 1, 6: 2, 7: 1, 8: 1, 3: 1}"
      ]
     },
     "execution_count": 172,
     "metadata": {},
     "output_type": "execute_result"
    }
   ],
   "source": [
    "# 27. Develop a code that  takes a tuple of integers as a input.The function should return\n",
    "#     the count of occurances of the given element in the tuple.\n",
    "\n",
    "t= (1,2,54,1,34,1,6,7,8,1,1,1,3,6)\n",
    "\n",
    "# define the function:\n",
    "def all_element_count(tuple):\n",
    "   counts = {}\n",
    "   for i in tuple:\n",
    "      if i in counts:\n",
    "        counts[i] += 1\n",
    "      else:\n",
    "        counts[i] = 1\n",
    "   return counts\n",
    "\n",
    "# call the function:\n",
    "all_element_count(t)\n"
   ]
  },
  {
   "cell_type": "code",
   "execution_count": 160,
   "id": "c072358b-3ff1-408c-a63a-17ecb350b2e0",
   "metadata": {},
   "outputs": [
    {
     "name": "stdout",
     "output_type": "stream",
     "text": [
      "this is the union {1, 2, 4, 5, 6, 45, 47, 87, 55, 28}\n",
      "this is the intersection {1, 28, 87, 55}\n",
      "this is the difference {5, 47}\n"
     ]
    }
   ],
   "source": [
    "# 28. Create a code that defines two sets of integers.Then, print the union,intersection,\n",
    "#     and difference of these two sets.\n",
    "\n",
    "s1 = {1,5,55,47,28,87}\n",
    "s2 = {1,2,6,4,55,45,28,87}\n",
    "\n",
    "\n",
    "# define the function:\n",
    "def set_operations(set1 , set2 ):\n",
    "    print('this is the union' , set1 | set2 )\n",
    "    print('this is the intersection', set1 & set2)\n",
    "    print('this is the difference', set1 -set2)\n",
    "\n",
    "# call the function:\n",
    "set_operations(s1 , s2)\n",
    "\n"
   ]
  },
  {
   "cell_type": "code",
   "execution_count": null,
   "id": "b97c771f-4293-4eb6-9ac5-d0491e88359f",
   "metadata": {},
   "outputs": [],
   "source": [
    "# 29. Write a code that takes a tuple and a element as input. The function should return\n",
    "#     the count of occurance of a given element in the tuple.\n",
    "\n",
    "# tuple:\n",
    "t= (1,2,54,1,34,1,6,7,8,1,1,1,3,6)\n",
    "\n",
    "# define the function:\n",
    "def tuple_element_count(tuple , element):\n",
    "        return tuple.count(1)\n",
    "\n",
    "# call the function:\n",
    "tuple_element_count(t , 1)"
   ]
  },
  {
   "cell_type": "code",
   "execution_count": 174,
   "id": "11bb835d-cd8f-43fa-877d-56111a00b588",
   "metadata": {},
   "outputs": [
    {
     "data": {
      "text/plain": [
       "{'hiking', 'photography', 'reading', 'tavelling'}"
      ]
     },
     "execution_count": 174,
     "metadata": {},
     "output_type": "execute_result"
    }
   ],
   "source": [
    "# 30. Develop a code that prompts the user to input two set of strings.Then, print the symmetric difference of\n",
    "#     these two sets.\n",
    "\n",
    "# set of strings:\n",
    "s1={'hiking','reading','coding'}\n",
    "s2={'coding','photography','tavelling'}\n",
    "\n",
    "# define the function:\n",
    "def symmetric_diff(s1 , s2):\n",
    "    return s1 ^ s2\n",
    "\n",
    "# call the function:\n",
    "symmetric_diff(s1 , s2)"
   ]
  },
  {
   "cell_type": "code",
   "execution_count": 11,
   "id": "24eb96a5-16e4-42d2-80ca-1c788782fb2b",
   "metadata": {},
   "outputs": [
    {
     "data": {
      "text/plain": [
       "{'VIRAT': 3, 'ROHIT': 2, 'PANT': 1}"
      ]
     },
     "execution_count": 11,
     "metadata": {},
     "output_type": "execute_result"
    }
   ],
   "source": [
    "# 31. write a code that takes a list of two words as input and returns a dictionary where the keys \n",
    "#     are unique words and the values are the frequencies of those words in the input list.\n",
    "\n",
    "# list of words:\n",
    "ODI_HUNDERD = ['VIRAT' , 'ROHIT' , 'VIRAT' , 'PANT' , 'VIRAT' , 'ROHIT']\n",
    "\n",
    "# drfine the function:\n",
    "def word_dictionary(word_list):\n",
    "    freq_dict = {}\n",
    "    for word in word_list:\n",
    "        if word in freq_dict:\n",
    "            freq_dict[word] += 1\n",
    "        else:\n",
    "            freq_dict[word] = 1\n",
    "    \n",
    "    return freq_dict\n",
    "\n",
    "# call  the function:\n",
    "word_dictionary(ODI_HUNDERD)\n",
    "\n"
   ]
  },
  {
   "cell_type": "code",
   "execution_count": 31,
   "id": "6effbfd7-4f41-4f53-965d-bceb6f02523a",
   "metadata": {},
   "outputs": [
    {
     "data": {
      "text/plain": [
       "{'name': ('rohit', 'virat'),\n",
       " 'hundred': (25, 32),\n",
       " 'fifty': 40,\n",
       " 'matches': (97, 107),\n",
       " 'age': (35, 33)}"
      ]
     },
     "execution_count": 31,
     "metadata": {},
     "output_type": "execute_result"
    }
   ],
   "source": [
    "# 32. write a code that takes two dictionaries as input and merge them into a single dictionary.\n",
    "#     If there are common keys, the values should be added togather.\n",
    "\n",
    "# two dictionay:\n",
    "ROHIT = {'name': 'rohit' , 'hundred' : 25 , 'matches' : 97 ,  'age' : 35  }\n",
    "VIRAT = {'name': 'virat' , 'hundred' : 32 , 'fifty' : 40 ,  'matches' : 107 ,  'age' : 33}\n",
    "\n",
    "\n",
    "# define the function:\n",
    "def combine_dict(d1 , d2):\n",
    "    d3 = {}\n",
    "    for key in d2:\n",
    "       if key in d1:\n",
    "           d3[key] = d1[key] , d2[key]\n",
    "       else:\n",
    "            d3[key] = d2[key]\n",
    "\n",
    "    for key in d2:\n",
    "        if key not in d3:\n",
    "            d3[key] = d1[key]\n",
    "            \n",
    "    return d3\n",
    "\n",
    "# call the function:\n",
    "combine_dict(ROHIT , VIRAT)\n",
    "    \n",
    "         "
   ]
  },
  {
   "cell_type": "code",
   "execution_count": 53,
   "id": "517b26d8-9520-4007-a405-f8babc109733",
   "metadata": {},
   "outputs": [
    {
     "data": {
      "text/plain": [
       "{'odi_rank': 2, 't20_rank': 1, 'test_rank': 3}"
      ]
     },
     "execution_count": 53,
     "metadata": {},
     "output_type": "execute_result"
    }
   ],
   "source": [
    "#  33. Write a code to access a value in a nested dictionary. The function should take the dictionary and a list of \n",
    "#      keys as input and return the corresponding value. If any of the keys do not exist in the dictionary the\n",
    "#      function should return None.\n",
    "\n",
    "VIRAT = {'name': 'virat' , 'hundred' : 32 , 'fifty' : 40 ,  'matches' : 107 ,  'age' : 33  ,\n",
    "         'rank' : {'odi_rank': 2  ,'t20_rank' : 1 ,'test_rank' : 3 }  , }\n",
    "\n",
    "key = ['rank']\n",
    "\n",
    "def get_nested_value(dictionary, keys):\n",
    "    current_dict = dictionary\n",
    "    for key in keys:\n",
    "        if key in current_dict:  \n",
    "            current_dict = current_dict[key]  \n",
    "        else:\n",
    "            return None \n",
    "    return current_dict\n",
    "\n",
    "\n",
    "get_nested_value( VIRAT,key)"
   ]
  },
  {
   "cell_type": "code",
   "execution_count": 67,
   "id": "42cf3cb5-daa0-4bdb-8237-23892b15b5b9",
   "metadata": {},
   "outputs": [
    {
     "data": {
      "text/plain": [
       "{'b': 5, 'a': 10, 'd': 15, 'c': 20}"
      ]
     },
     "execution_count": 67,
     "metadata": {},
     "output_type": "execute_result"
    }
   ],
   "source": [
    "# 34. Write a code that takes a dictionary as input and returns a sorted version of it based on the values. You\n",
    "#    can choose whether to sort in ascending or descending order.\n",
    "\n",
    "d = {'a': 10, 'b': 5, 'c': 20, 'd': 15}\n",
    "\n",
    "# define the function for ascendi\n",
    "def sort_dict(d, bool):         # as bool = True for decending and False for ascending\n",
    "    return dict(sorted(d.items(), key = lambda x: x[1], reverse = bool))\n",
    "\n",
    "\n",
    "# call the function:\n",
    "sort_dict_by_value(d ,False)"
   ]
  },
  {
   "cell_type": "code",
   "execution_count": 74,
   "id": "dfd28d0f-c61d-467b-8639-2af97ad0cf4c",
   "metadata": {},
   "outputs": [
    {
     "data": {
      "text/plain": [
       "{1: ['a', 'c'], 2: ['b'], 3: ['d']}"
      ]
     },
     "execution_count": 74,
     "metadata": {},
     "output_type": "execute_result"
    }
   ],
   "source": [
    "# 35. Write a code that inverts a dictionary , swapping keys and values. Ensure that the inverted dictionary\n",
    "#     correctly handles cases where multiple keys have the same value by storing the keys as a list in the\n",
    "#    inverted dictionary.\n",
    "\n",
    "# dictionary:\n",
    "dict = {'a': 1, 'b': 2, 'c': 1, 'd': 3}\n",
    "\n",
    "# define the function:\n",
    "def invert_dict(d):\n",
    "    inverted_dict = {}\n",
    "    \n",
    "    for key, value in d.items():\n",
    "        if value in inverted_dict:\n",
    "            inverted_dict[value].append(key)  # Append the key to the list if the value already exists\n",
    "        else:\n",
    "            inverted_dict[value] = [key]  # Create a new list for this value\n",
    "    \n",
    "    return inverted_dict\n",
    "\n",
    "# call the function:\n",
    "invert_dict(sample_dict)\n",
    "\n",
    "\n"
   ]
  },
  {
   "cell_type": "code",
   "execution_count": null,
   "id": "f09508af-08e6-41a9-832d-72e25b2e25a7",
   "metadata": {},
   "outputs": [],
   "source": []
  }
 ],
 "metadata": {
  "kernelspec": {
   "display_name": "Python 3 (ipykernel)",
   "language": "python",
   "name": "python3"
  },
  "language_info": {
   "codemirror_mode": {
    "name": "ipython",
    "version": 3
   },
   "file_extension": ".py",
   "mimetype": "text/x-python",
   "name": "python",
   "nbconvert_exporter": "python",
   "pygments_lexer": "ipython3",
   "version": "3.12.4"
  }
 },
 "nbformat": 4,
 "nbformat_minor": 5
}
